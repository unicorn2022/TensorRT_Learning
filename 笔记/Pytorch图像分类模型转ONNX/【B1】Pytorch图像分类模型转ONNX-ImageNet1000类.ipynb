{
 "cells": [
  {
   "cell_type": "markdown",
   "id": "1c02c91b-e604-4778-b626-b06b350891de",
   "metadata": {},
   "source": [
    "# Pytorch图像分类模型转ONNX-ImageNet1000类\n",
    "\n",
    "把Pytorch预训练ImageNet图像分类模型，导出为ONNX格式，用于后续在推理引擎上部署。\n",
    "\n",
    "代码运行云GPU平台：公众号 人工智能小技巧 回复 gpu\n",
    "\n",
    "同济子豪兄 2022-8-22 2023-4-28 2023-5-8"
   ]
  },
  {
   "cell_type": "markdown",
   "id": "aab08f57-14e2-44bc-8562-51c7be68f074",
   "metadata": {},
   "source": [
    "## 导入工具包"
   ]
  },
  {
   "cell_type": "code",
   "execution_count": 1,
   "id": "f9baf99e-744e-462d-94b4-f3653cb743ca",
   "metadata": {},
   "outputs": [
    {
     "name": "stdout",
     "output_type": "stream",
     "text": [
      "device cuda:0\n"
     ]
    }
   ],
   "source": [
    "import torch\n",
    "from torchvision import models\n",
    "\n",
    "# 有 GPU 就用 GPU，没有就用 CPU\n",
    "device = torch.device('cuda:0' if torch.cuda.is_available() else 'cpu')\n",
    "print('device', device)"
   ]
  },
  {
   "cell_type": "markdown",
   "id": "83ca3195-6800-4c89-98a7-3fb0c44ec329",
   "metadata": {},
   "source": [
    "## 载入ImageNet预训练PyTorch图像分类模型"
   ]
  },
  {
   "cell_type": "code",
   "execution_count": 2,
   "id": "04824a4e-29ef-4048-af6e-e2442e388b69",
   "metadata": {},
   "outputs": [
    {
     "name": "stderr",
     "output_type": "stream",
     "text": [
      "d:\\Program\\Anaconda\\envs\\pytorch_GPU\\lib\\site-packages\\torchvision\\models\\_utils.py:208: UserWarning: The parameter 'pretrained' is deprecated since 0.13 and may be removed in the future, please use 'weights' instead.\n",
      "  warnings.warn(\n",
      "d:\\Program\\Anaconda\\envs\\pytorch_GPU\\lib\\site-packages\\torchvision\\models\\_utils.py:223: UserWarning: Arguments other than a weight enum or `None` for 'weights' are deprecated since 0.13 and may be removed in the future. The current behavior is equivalent to passing `weights=ResNet18_Weights.IMAGENET1K_V1`. You can also use `weights=ResNet18_Weights.DEFAULT` to get the most up-to-date weights.\n",
      "  warnings.warn(msg)\n",
      "Downloading: \"https://download.pytorch.org/models/resnet18-f37072fd.pth\" to C:\\Users\\unicorn/.cache\\torch\\hub\\checkpoints\\resnet18-f37072fd.pth\n",
      "100%|██████████| 44.7M/44.7M [00:01<00:00, 24.7MB/s]\n"
     ]
    }
   ],
   "source": [
    "model = models.resnet18(pretrained=True)\n",
    "model = model.eval().to(device)"
   ]
  },
  {
   "cell_type": "markdown",
   "id": "14ecc309-184d-4ef9-a926-7f5f379d8a95",
   "metadata": {},
   "source": [
    "## 构造一个输入图像Tensor"
   ]
  },
  {
   "cell_type": "code",
   "execution_count": 3,
   "id": "f3e41561-1d86-4f1d-b98d-c19373635bd8",
   "metadata": {},
   "outputs": [],
   "source": [
    "x = torch.randn(1, 3, 256, 256).to(device)"
   ]
  },
  {
   "cell_type": "markdown",
   "id": "798a2585-d34b-4537-b5aa-538aea6c4d59",
   "metadata": {},
   "source": [
    "## 输入Pytorch模型推理预测，获得1000个类别的预测结果"
   ]
  },
  {
   "cell_type": "code",
   "execution_count": 4,
   "id": "6fa9b2ec-ec96-419e-a289-5615ea57b00b",
   "metadata": {},
   "outputs": [],
   "source": [
    "output = model(x)"
   ]
  },
  {
   "cell_type": "code",
   "execution_count": 5,
   "id": "bb5ffda8-26af-4d9b-8770-3de9de27958c",
   "metadata": {},
   "outputs": [
    {
     "data": {
      "text/plain": [
       "torch.Size([1, 1000])"
      ]
     },
     "execution_count": 5,
     "metadata": {},
     "output_type": "execute_result"
    }
   ],
   "source": [
    "output.shape"
   ]
  },
  {
   "cell_type": "markdown",
   "id": "8b8bb112-e3d4-4abe-ab51-b09ed29ef682",
   "metadata": {},
   "source": [
    "## Pytorch模型转ONNX格式"
   ]
  },
  {
   "cell_type": "code",
   "execution_count": 6,
   "id": "4adf4e24-93f5-4467-b011-e69c45d45bd3",
   "metadata": {},
   "outputs": [],
   "source": [
    "with torch.no_grad():\n",
    "    torch.onnx.export(\n",
    "        model,                       # 要转换的模型\n",
    "        x,                           # 模型的任意一组输入\n",
    "        'resnet18_imagenet.onnx',    # 导出的 ONNX 文件名\n",
    "        opset_version=11,            # ONNX 算子集版本\n",
    "        input_names=['input'],       # 输入 Tensor 的名称（自己起名字）\n",
    "        output_names=['output']      # 输出 Tensor 的名称（自己起名字）\n",
    "    ) "
   ]
  },
  {
   "cell_type": "markdown",
   "id": "9f30be68-1c30-43cd-be36-541b3035d933",
   "metadata": {},
   "source": [
    "## 验证onnx模型导出成功"
   ]
  },
  {
   "cell_type": "code",
   "execution_count": 7,
   "id": "067ce090-879a-4b05-af90-c7da47d84cc2",
   "metadata": {},
   "outputs": [
    {
     "name": "stdout",
     "output_type": "stream",
     "text": [
      "无报错，onnx模型载入成功\n"
     ]
    }
   ],
   "source": [
    "import onnx\n",
    "\n",
    "# 读取 ONNX 模型\n",
    "onnx_model = onnx.load('resnet18_imagenet.onnx')\n",
    "\n",
    "# 检查模型格式是否正确\n",
    "onnx.checker.check_model(onnx_model)\n",
    "\n",
    "print('无报错, onnx模型载入成功')"
   ]
  },
  {
   "cell_type": "markdown",
   "id": "9fa98064-6ac5-4072-a331-8513b3e29a03",
   "metadata": {},
   "source": [
    "## 以可读的形式打印计算图"
   ]
  },
  {
   "cell_type": "code",
   "execution_count": 8,
   "id": "333c59c1-6118-44e1-b892-e0a58d47cff1",
   "metadata": {},
   "outputs": [
    {
     "name": "stdout",
     "output_type": "stream",
     "text": [
      "graph main_graph (\n",
      "  %input[FLOAT, 1x3x256x256]\n",
      ") initializers (\n",
      "  %fc.weight[FLOAT, 1000x512]\n",
      "  %fc.bias[FLOAT, 1000]\n",
      "  %onnx::Conv_193[FLOAT, 64x3x7x7]\n",
      "  %onnx::Conv_194[FLOAT, 64]\n",
      "  %onnx::Conv_196[FLOAT, 64x64x3x3]\n",
      "  %onnx::Conv_197[FLOAT, 64]\n",
      "  %onnx::Conv_199[FLOAT, 64x64x3x3]\n",
      "  %onnx::Conv_200[FLOAT, 64]\n",
      "  %onnx::Conv_202[FLOAT, 64x64x3x3]\n",
      "  %onnx::Conv_203[FLOAT, 64]\n",
      "  %onnx::Conv_205[FLOAT, 64x64x3x3]\n",
      "  %onnx::Conv_206[FLOAT, 64]\n",
      "  %onnx::Conv_208[FLOAT, 128x64x3x3]\n",
      "  %onnx::Conv_209[FLOAT, 128]\n",
      "  %onnx::Conv_211[FLOAT, 128x128x3x3]\n",
      "  %onnx::Conv_212[FLOAT, 128]\n",
      "  %onnx::Conv_214[FLOAT, 128x64x1x1]\n",
      "  %onnx::Conv_215[FLOAT, 128]\n",
      "  %onnx::Conv_217[FLOAT, 128x128x3x3]\n",
      "  %onnx::Conv_218[FLOAT, 128]\n",
      "  %onnx::Conv_220[FLOAT, 128x128x3x3]\n",
      "  %onnx::Conv_221[FLOAT, 128]\n",
      "  %onnx::Conv_223[FLOAT, 256x128x3x3]\n",
      "  %onnx::Conv_224[FLOAT, 256]\n",
      "  %onnx::Conv_226[FLOAT, 256x256x3x3]\n",
      "  %onnx::Conv_227[FLOAT, 256]\n",
      "  %onnx::Conv_229[FLOAT, 256x128x1x1]\n",
      "  %onnx::Conv_230[FLOAT, 256]\n",
      "  %onnx::Conv_232[FLOAT, 256x256x3x3]\n",
      "  %onnx::Conv_233[FLOAT, 256]\n",
      "  %onnx::Conv_235[FLOAT, 256x256x3x3]\n",
      "  %onnx::Conv_236[FLOAT, 256]\n",
      "  %onnx::Conv_238[FLOAT, 512x256x3x3]\n",
      "  %onnx::Conv_239[FLOAT, 512]\n",
      "  %onnx::Conv_241[FLOAT, 512x512x3x3]\n",
      "  %onnx::Conv_242[FLOAT, 512]\n",
      "  %onnx::Conv_244[FLOAT, 512x256x1x1]\n",
      "  %onnx::Conv_245[FLOAT, 512]\n",
      "  %onnx::Conv_247[FLOAT, 512x512x3x3]\n",
      "  %onnx::Conv_248[FLOAT, 512]\n",
      "  %onnx::Conv_250[FLOAT, 512x512x3x3]\n",
      "  %onnx::Conv_251[FLOAT, 512]\n",
      ") {\n",
      "  %/conv1/Conv_output_0 = Conv[dilations = [1, 1], group = 1, kernel_shape = [7, 7], pads = [3, 3, 3, 3], strides = [2, 2]](%input, %onnx::Conv_193, %onnx::Conv_194)\n",
      "  %/relu/Relu_output_0 = Relu(%/conv1/Conv_output_0)\n",
      "  %/maxpool/MaxPool_output_0 = MaxPool[ceil_mode = 0, kernel_shape = [3, 3], pads = [1, 1, 1, 1], strides = [2, 2]](%/relu/Relu_output_0)\n",
      "  %/layer1/layer1.0/conv1/Conv_output_0 = Conv[dilations = [1, 1], group = 1, kernel_shape = [3, 3], pads = [1, 1, 1, 1], strides = [1, 1]](%/maxpool/MaxPool_output_0, %onnx::Conv_196, %onnx::Conv_197)\n",
      "  %/layer1/layer1.0/relu/Relu_output_0 = Relu(%/layer1/layer1.0/conv1/Conv_output_0)\n",
      "  %/layer1/layer1.0/conv2/Conv_output_0 = Conv[dilations = [1, 1], group = 1, kernel_shape = [3, 3], pads = [1, 1, 1, 1], strides = [1, 1]](%/layer1/layer1.0/relu/Relu_output_0, %onnx::Conv_199, %onnx::Conv_200)\n",
      "  %/layer1/layer1.0/Add_output_0 = Add(%/layer1/layer1.0/conv2/Conv_output_0, %/maxpool/MaxPool_output_0)\n",
      "  %/layer1/layer1.0/relu_1/Relu_output_0 = Relu(%/layer1/layer1.0/Add_output_0)\n",
      "  %/layer1/layer1.1/conv1/Conv_output_0 = Conv[dilations = [1, 1], group = 1, kernel_shape = [3, 3], pads = [1, 1, 1, 1], strides = [1, 1]](%/layer1/layer1.0/relu_1/Relu_output_0, %onnx::Conv_202, %onnx::Conv_203)\n",
      "  %/layer1/layer1.1/relu/Relu_output_0 = Relu(%/layer1/layer1.1/conv1/Conv_output_0)\n",
      "  %/layer1/layer1.1/conv2/Conv_output_0 = Conv[dilations = [1, 1], group = 1, kernel_shape = [3, 3], pads = [1, 1, 1, 1], strides = [1, 1]](%/layer1/layer1.1/relu/Relu_output_0, %onnx::Conv_205, %onnx::Conv_206)\n",
      "  %/layer1/layer1.1/Add_output_0 = Add(%/layer1/layer1.1/conv2/Conv_output_0, %/layer1/layer1.0/relu_1/Relu_output_0)\n",
      "  %/layer1/layer1.1/relu_1/Relu_output_0 = Relu(%/layer1/layer1.1/Add_output_0)\n",
      "  %/layer2/layer2.0/conv1/Conv_output_0 = Conv[dilations = [1, 1], group = 1, kernel_shape = [3, 3], pads = [1, 1, 1, 1], strides = [2, 2]](%/layer1/layer1.1/relu_1/Relu_output_0, %onnx::Conv_208, %onnx::Conv_209)\n",
      "  %/layer2/layer2.0/relu/Relu_output_0 = Relu(%/layer2/layer2.0/conv1/Conv_output_0)\n",
      "  %/layer2/layer2.0/conv2/Conv_output_0 = Conv[dilations = [1, 1], group = 1, kernel_shape = [3, 3], pads = [1, 1, 1, 1], strides = [1, 1]](%/layer2/layer2.0/relu/Relu_output_0, %onnx::Conv_211, %onnx::Conv_212)\n",
      "  %/layer2/layer2.0/downsample/downsample.0/Conv_output_0 = Conv[dilations = [1, 1], group = 1, kernel_shape = [1, 1], pads = [0, 0, 0, 0], strides = [2, 2]](%/layer1/layer1.1/relu_1/Relu_output_0, %onnx::Conv_214, %onnx::Conv_215)\n",
      "  %/layer2/layer2.0/Add_output_0 = Add(%/layer2/layer2.0/conv2/Conv_output_0, %/layer2/layer2.0/downsample/downsample.0/Conv_output_0)\n",
      "  %/layer2/layer2.0/relu_1/Relu_output_0 = Relu(%/layer2/layer2.0/Add_output_0)\n",
      "  %/layer2/layer2.1/conv1/Conv_output_0 = Conv[dilations = [1, 1], group = 1, kernel_shape = [3, 3], pads = [1, 1, 1, 1], strides = [1, 1]](%/layer2/layer2.0/relu_1/Relu_output_0, %onnx::Conv_217, %onnx::Conv_218)\n",
      "  %/layer2/layer2.1/relu/Relu_output_0 = Relu(%/layer2/layer2.1/conv1/Conv_output_0)\n",
      "  %/layer2/layer2.1/conv2/Conv_output_0 = Conv[dilations = [1, 1], group = 1, kernel_shape = [3, 3], pads = [1, 1, 1, 1], strides = [1, 1]](%/layer2/layer2.1/relu/Relu_output_0, %onnx::Conv_220, %onnx::Conv_221)\n",
      "  %/layer2/layer2.1/Add_output_0 = Add(%/layer2/layer2.1/conv2/Conv_output_0, %/layer2/layer2.0/relu_1/Relu_output_0)\n",
      "  %/layer2/layer2.1/relu_1/Relu_output_0 = Relu(%/layer2/layer2.1/Add_output_0)\n",
      "  %/layer3/layer3.0/conv1/Conv_output_0 = Conv[dilations = [1, 1], group = 1, kernel_shape = [3, 3], pads = [1, 1, 1, 1], strides = [2, 2]](%/layer2/layer2.1/relu_1/Relu_output_0, %onnx::Conv_223, %onnx::Conv_224)\n",
      "  %/layer3/layer3.0/relu/Relu_output_0 = Relu(%/layer3/layer3.0/conv1/Conv_output_0)\n",
      "  %/layer3/layer3.0/conv2/Conv_output_0 = Conv[dilations = [1, 1], group = 1, kernel_shape = [3, 3], pads = [1, 1, 1, 1], strides = [1, 1]](%/layer3/layer3.0/relu/Relu_output_0, %onnx::Conv_226, %onnx::Conv_227)\n",
      "  %/layer3/layer3.0/downsample/downsample.0/Conv_output_0 = Conv[dilations = [1, 1], group = 1, kernel_shape = [1, 1], pads = [0, 0, 0, 0], strides = [2, 2]](%/layer2/layer2.1/relu_1/Relu_output_0, %onnx::Conv_229, %onnx::Conv_230)\n",
      "  %/layer3/layer3.0/Add_output_0 = Add(%/layer3/layer3.0/conv2/Conv_output_0, %/layer3/layer3.0/downsample/downsample.0/Conv_output_0)\n",
      "  %/layer3/layer3.0/relu_1/Relu_output_0 = Relu(%/layer3/layer3.0/Add_output_0)\n",
      "  %/layer3/layer3.1/conv1/Conv_output_0 = Conv[dilations = [1, 1], group = 1, kernel_shape = [3, 3], pads = [1, 1, 1, 1], strides = [1, 1]](%/layer3/layer3.0/relu_1/Relu_output_0, %onnx::Conv_232, %onnx::Conv_233)\n",
      "  %/layer3/layer3.1/relu/Relu_output_0 = Relu(%/layer3/layer3.1/conv1/Conv_output_0)\n",
      "  %/layer3/layer3.1/conv2/Conv_output_0 = Conv[dilations = [1, 1], group = 1, kernel_shape = [3, 3], pads = [1, 1, 1, 1], strides = [1, 1]](%/layer3/layer3.1/relu/Relu_output_0, %onnx::Conv_235, %onnx::Conv_236)\n",
      "  %/layer3/layer3.1/Add_output_0 = Add(%/layer3/layer3.1/conv2/Conv_output_0, %/layer3/layer3.0/relu_1/Relu_output_0)\n",
      "  %/layer3/layer3.1/relu_1/Relu_output_0 = Relu(%/layer3/layer3.1/Add_output_0)\n",
      "  %/layer4/layer4.0/conv1/Conv_output_0 = Conv[dilations = [1, 1], group = 1, kernel_shape = [3, 3], pads = [1, 1, 1, 1], strides = [2, 2]](%/layer3/layer3.1/relu_1/Relu_output_0, %onnx::Conv_238, %onnx::Conv_239)\n",
      "  %/layer4/layer4.0/relu/Relu_output_0 = Relu(%/layer4/layer4.0/conv1/Conv_output_0)\n",
      "  %/layer4/layer4.0/conv2/Conv_output_0 = Conv[dilations = [1, 1], group = 1, kernel_shape = [3, 3], pads = [1, 1, 1, 1], strides = [1, 1]](%/layer4/layer4.0/relu/Relu_output_0, %onnx::Conv_241, %onnx::Conv_242)\n",
      "  %/layer4/layer4.0/downsample/downsample.0/Conv_output_0 = Conv[dilations = [1, 1], group = 1, kernel_shape = [1, 1], pads = [0, 0, 0, 0], strides = [2, 2]](%/layer3/layer3.1/relu_1/Relu_output_0, %onnx::Conv_244, %onnx::Conv_245)\n",
      "  %/layer4/layer4.0/Add_output_0 = Add(%/layer4/layer4.0/conv2/Conv_output_0, %/layer4/layer4.0/downsample/downsample.0/Conv_output_0)\n",
      "  %/layer4/layer4.0/relu_1/Relu_output_0 = Relu(%/layer4/layer4.0/Add_output_0)\n",
      "  %/layer4/layer4.1/conv1/Conv_output_0 = Conv[dilations = [1, 1], group = 1, kernel_shape = [3, 3], pads = [1, 1, 1, 1], strides = [1, 1]](%/layer4/layer4.0/relu_1/Relu_output_0, %onnx::Conv_247, %onnx::Conv_248)\n",
      "  %/layer4/layer4.1/relu/Relu_output_0 = Relu(%/layer4/layer4.1/conv1/Conv_output_0)\n",
      "  %/layer4/layer4.1/conv2/Conv_output_0 = Conv[dilations = [1, 1], group = 1, kernel_shape = [3, 3], pads = [1, 1, 1, 1], strides = [1, 1]](%/layer4/layer4.1/relu/Relu_output_0, %onnx::Conv_250, %onnx::Conv_251)\n",
      "  %/layer4/layer4.1/Add_output_0 = Add(%/layer4/layer4.1/conv2/Conv_output_0, %/layer4/layer4.0/relu_1/Relu_output_0)\n",
      "  %/layer4/layer4.1/relu_1/Relu_output_0 = Relu(%/layer4/layer4.1/Add_output_0)\n",
      "  %/avgpool/GlobalAveragePool_output_0 = GlobalAveragePool(%/layer4/layer4.1/relu_1/Relu_output_0)\n",
      "  %/Flatten_output_0 = Flatten[axis = 1](%/avgpool/GlobalAveragePool_output_0)\n",
      "  %output = Gemm[alpha = 1, beta = 1, transB = 1](%/Flatten_output_0, %fc.weight, %fc.bias)\n",
      "  return %output\n",
      "}\n"
     ]
    }
   ],
   "source": [
    "print(onnx.helper.printable_graph(onnx_model.graph))"
   ]
  },
  {
   "cell_type": "markdown",
   "id": "50822107-074b-4326-8b60-87b1f67a5428",
   "metadata": {},
   "source": [
    "## 使用Netron可视化模型结构\n",
    "\n",
    "Netron：https://netron.app\n",
    "\n",
    "视频教程：https://www.bilibili.com/video/BV1TV4y1P7AP"
   ]
  },
  {
   "cell_type": "code",
   "execution_count": null,
   "id": "0c424032-6fe5-4e78-b118-1fd993d6ebb4",
   "metadata": {},
   "outputs": [],
   "source": []
  }
 ],
 "metadata": {
  "kernelspec": {
   "display_name": "Python 3 (ipykernel)",
   "language": "python",
   "name": "python3"
  },
  "language_info": {
   "codemirror_mode": {
    "name": "ipython",
    "version": 3
   },
   "file_extension": ".py",
   "mimetype": "text/x-python",
   "name": "python",
   "nbconvert_exporter": "python",
   "pygments_lexer": "ipython3",
   "version": "3.9.18"
  }
 },
 "nbformat": 4,
 "nbformat_minor": 5
}
